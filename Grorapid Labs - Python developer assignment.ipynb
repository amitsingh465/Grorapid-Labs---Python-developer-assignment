{
 "cells": [
  {
   "cell_type": "code",
   "execution_count": 1,
   "id": "e5aba5f1",
   "metadata": {},
   "outputs": [],
   "source": [
    "import requests"
   ]
  },
  {
   "cell_type": "code",
   "execution_count": 2,
   "id": "0e28cb4d",
   "metadata": {},
   "outputs": [],
   "source": [
    "from bs4 import BeautifulSoup"
   ]
  },
  {
   "cell_type": "code",
   "execution_count": 3,
   "id": "d83934d9",
   "metadata": {},
   "outputs": [
    {
     "name": "stdout",
     "output_type": "stream",
     "text": [
      "Requirement already satisfied: html5lib in c:\\users\\kumar.amit\\appdata\\local\\anaconda3\\lib\\site-packages (1.1)Note: you may need to restart the kernel to use updated packages.\n",
      "\n",
      "Requirement already satisfied: six>=1.9 in c:\\users\\kumar.amit\\appdata\\local\\anaconda3\\lib\\site-packages (from html5lib) (1.16.0)\n",
      "Requirement already satisfied: webencodings in c:\\users\\kumar.amit\\appdata\\local\\anaconda3\\lib\\site-packages (from html5lib) (0.5.1)\n"
     ]
    }
   ],
   "source": [
    "pip install html5lib"
   ]
  },
  {
   "cell_type": "code",
   "execution_count": 7,
   "id": "34e2e74e",
   "metadata": {},
   "outputs": [],
   "source": [
    "import json"
   ]
  },
  {
   "cell_type": "code",
   "execution_count": 57,
   "id": "574e73f1",
   "metadata": {},
   "outputs": [],
   "source": [
    "def scrape_website_details(url):\n",
    "    try:\n",
    "        # Send an HTTP GET request to the website\n",
    "        response = requests.get(url)\n",
    "        response.raise_for_status()\n",
    "        \n",
    "        # Parse the HTML content of the page\n",
    "        soup = BeautifulSoup(response.text, 'html.parser')\n",
    "        \n",
    "        # Get the meta title and description\n",
    "        meta_title = soup.find('title').text.strip()\n",
    "        meta_description = soup.find('meta', attrs={'name': 'description'})['content'].strip()\n",
    "        \n",
    "        # Get total number of links on the page\n",
    "        all_links = soup.find_all('a')\n",
    "        total_links = len(all_links)\n",
    "        \n",
    "        # Find social media links for Twitter and LinkedIn\n",
    "        social_media_links = {\n",
    "            \"Twitter\": None,\n",
    "            \"LinkedIn\": None\n",
    "        }\n",
    "        for link in all_links:\n",
    "            href = link.get('href')\n",
    "            if href:\n",
    "                if 'twitter.com' in href:\n",
    "                    social_media_links[\"Twitter\"] = href\n",
    "                elif 'linkedin.com' in href:\n",
    "                    social_media_links[\"LinkedIn\"] = href\n",
    "        \n",
    "        # Count the number of times \"technology\" is present on the website\n",
    "        technology_count = soup.text.lower().count(\"technology\")\n",
    "        \n",
    "        # Create a dictionary to store the gathered details\n",
    "        website_details = {\n",
    "            \"MetaTitle\": meta_title,\n",
    "            \"MetaDescription\": meta_description,\n",
    "            \"TotalLinks\": total_links,\n",
    "            \"SocialMediaLinks\": social_media_links,\n",
    "            \"TechnologyWordCount\": technology_count\n",
    "        }\n",
    "        \n",
    "        return website_details\n",
    "    except Exception as e:\n",
    "        return {\"Error\": str(e)}"
   ]
  },
  {
   "cell_type": "code",
   "execution_count": 112,
   "id": "ca24d513",
   "metadata": {},
   "outputs": [
    {
     "data": {
      "text/plain": [
       "{'MetaTitle': 'Technology Infrastructure Solutions | Align',\n",
       " 'MetaDescription': 'Align is the leading global provider of Managed IT Services, Comprehensive Cybersecurity Solutions, Data Center Design and Build, Data Center Consolidation and Migrations, and Workplace Technologies.',\n",
       " 'TotalLinks': 122,\n",
       " 'SocialMediaLinks': {'Twitter': None, 'LinkedIn': None},\n",
       " 'TechnologyWordCount': 18}"
      ]
     },
     "execution_count": 112,
     "metadata": {},
     "output_type": "execute_result"
    }
   ],
   "source": [
    "scrape_website_details('https://www.align.com/')"
   ]
  },
  {
   "cell_type": "code",
   "execution_count": 131,
   "id": "119a750a",
   "metadata": {},
   "outputs": [
    {
     "name": "stdout",
     "output_type": "stream",
     "text": [
      "Scraped data has been saved to website_details.txt\n"
     ]
    }
   ],
   "source": [
    "if __name__ == \"__main__\":\n",
    "    website_url = \"https://www.align.com/\"\n",
    "    scraped_data = scrape_website_details('https://www.align.com/')\n",
    "\n",
    "    # Write the scraped data to a JSON file\n",
    "    with open(\"website_details.txt\", \"w\") as json_file:\n",
    "        json.dump(scraped_data, json_file, indent=4)\n",
    "\n",
    "    print(\"Scraped data has been saved to website_details.txt\")"
   ]
  },
  {
   "cell_type": "code",
   "execution_count": 113,
   "id": "1c665991",
   "metadata": {},
   "outputs": [
    {
     "data": {
      "text/plain": [
       "{'MetaTitle': 'Cybersecurity & Compliance Experts | MyAlignedIT.com',\n",
       " 'MetaDescription': 'Aligned Technology Solutions specializes in comprehensive Managed IT & Cybersecurity Solutions to help you grow and secure your business.',\n",
       " 'TotalLinks': 174,\n",
       " 'SocialMediaLinks': {'Twitter': 'https://twitter.com/AlignedTech',\n",
       "  'LinkedIn': 'https://www.linkedin.com/company/aligned-technology-solutions-llc/'},\n",
       " 'TechnologyWordCount': 7}"
      ]
     },
     "execution_count": 113,
     "metadata": {},
     "output_type": "execute_result"
    }
   ],
   "source": [
    "scrape_website_details('https://www.myalignedit.com/')"
   ]
  },
  {
   "cell_type": "code",
   "execution_count": 132,
   "id": "80e0a678",
   "metadata": {},
   "outputs": [
    {
     "name": "stdout",
     "output_type": "stream",
     "text": [
      "Scraped data has been saved to website_details.txt\n"
     ]
    }
   ],
   "source": [
    "if __name__ == \"__main__\":\n",
    "    website_url = 'https://www.myalignedit.com/'\n",
    "    scraped_data = scrape_website_details('https://www.myalignedit.com/')\n",
    "\n",
    "    # Write the scraped data to a JSON file\n",
    "    with open(\"website_details.txt\", \"w\") as json_file:\n",
    "        json.dump(scraped_data, json_file, indent=4)\n",
    "\n",
    "    print(\"Scraped data has been saved to website_details.txt\")"
   ]
  },
  {
   "cell_type": "code",
   "execution_count": 114,
   "id": "0ba8f6ff",
   "metadata": {},
   "outputs": [
    {
     "data": {
      "text/plain": [
       "{'MetaTitle': 'Alfred - Private Lending & REIT Technology platform',\n",
       " 'MetaDescription': 'A complete technology solution to run your private lending or REIT business. Features include loan origination (LOS), loan servicing, investor management and fund management.  Contact us to get a demo!',\n",
       " 'TotalLinks': 42,\n",
       " 'SocialMediaLinks': {'Twitter': None, 'LinkedIn': None},\n",
       " 'TechnologyWordCount': 8}"
      ]
     },
     "execution_count": 114,
     "metadata": {},
     "output_type": "execute_result"
    }
   ],
   "source": [
    "scrape_website_details(\"https://www.alfred.tech/\")"
   ]
  },
  {
   "cell_type": "code",
   "execution_count": 133,
   "id": "4437d002",
   "metadata": {},
   "outputs": [
    {
     "name": "stdout",
     "output_type": "stream",
     "text": [
      "Scraped data has been saved to website_details.txt\n"
     ]
    }
   ],
   "source": [
    "if __name__ == \"__main__\":\n",
    "    website_url = \"https://www.alfred.tech/\"\n",
    "    scraped_data = scrape_website_details(\"https://www.alfred.tech/\")\n",
    "\n",
    "    # Write the scraped data to a JSON file\n",
    "    with open(\"website_details.txt\", \"w\") as json_file:\n",
    "        json.dump(scraped_data, json_file, indent=4)\n",
    "\n",
    "    print(\"Scraped data has been saved to website_details.txt\")"
   ]
  },
  {
   "cell_type": "code",
   "execution_count": 115,
   "id": "ea45c5a1",
   "metadata": {},
   "outputs": [
    {
     "data": {
      "text/plain": [
       "{'MetaTitle': 'Alina Technology Group | IT Managed Services | Minneapolis / St. Paul',\n",
       " 'MetaDescription': 'Alina Technology Group | IT Suport, Managed Services and Consulting in the Minneapolis / Saint Paul metro area.',\n",
       " 'TotalLinks': 6,\n",
       " 'SocialMediaLinks': {'Twitter': None, 'LinkedIn': None},\n",
       " 'TechnologyWordCount': 7}"
      ]
     },
     "execution_count": 115,
     "metadata": {},
     "output_type": "execute_result"
    }
   ],
   "source": [
    "scrape_website_details(\"https://www.alinatechnology.com/\")"
   ]
  },
  {
   "cell_type": "code",
   "execution_count": 134,
   "id": "0b4b2ed2",
   "metadata": {},
   "outputs": [
    {
     "name": "stdout",
     "output_type": "stream",
     "text": [
      "Scraped data has been saved to website_details.txt\n"
     ]
    }
   ],
   "source": [
    "if __name__ == \"__main__\":\n",
    "    website_url = \"https://www.alinatechnology.com/\"\n",
    "    scraped_data = scrape_website_details(\"https://www.alinatechnology.com/\")\n",
    "\n",
    "    # Write the scraped data to a JSON file\n",
    "    with open(\"website_details.txt\", \"w\") as json_file:\n",
    "        json.dump(scraped_data, json_file, indent=4)\n",
    "\n",
    "    print(\"Scraped data has been saved to website_details.txt\")"
   ]
  },
  {
   "cell_type": "code",
   "execution_count": 118,
   "id": "3e6d68f1",
   "metadata": {},
   "outputs": [
    {
     "data": {
      "text/plain": [
       "{'MetaTitle': 'Alive Media Audio/Visual Services',\n",
       " 'MetaDescription': 'Alive Media Audio/Visual Services. System Design, Sales, Installation, and Service. Event Production.',\n",
       " 'TotalLinks': 1,\n",
       " 'SocialMediaLinks': {'Twitter': None, 'LinkedIn': None},\n",
       " 'TechnologyWordCount': 0}"
      ]
     },
     "execution_count": 118,
     "metadata": {},
     "output_type": "execute_result"
    }
   ],
   "source": [
    "scrape_website_details(\"http://www.aliveav.com/\")"
   ]
  },
  {
   "cell_type": "code",
   "execution_count": 135,
   "id": "f9ad3c5d",
   "metadata": {},
   "outputs": [
    {
     "name": "stdout",
     "output_type": "stream",
     "text": [
      "Scraped data has been saved to website_details.txt\n"
     ]
    }
   ],
   "source": [
    "if __name__ == \"__main__\":\n",
    "    website_url =\"http://www.aliveav.com/\"\n",
    "    scraped_data = scrape_website_details(\"http://www.aliveav.com/\")\n",
    "\n",
    "    # Write the scraped data to a JSON file\n",
    "    with open(\"website_details.txt\", \"w\") as json_file:\n",
    "        json.dump(scraped_data, json_file, indent=4)\n",
    "\n",
    "    print(\"Scraped data has been saved to website_details.txt\")"
   ]
  },
  {
   "cell_type": "code",
   "execution_count": 119,
   "id": "77e34b26",
   "metadata": {},
   "outputs": [
    {
     "data": {
      "text/plain": [
       "{'MetaTitle': 'Alivi | Alivi',\n",
       " 'MetaDescription': 'We design, build, and manage supplemental benefits, and value based benefits to address Social Determinants of Health, promote Member Engagement, deliver a delightful Member Experience, and create Competitive Advantage for Medicare and Medicaid health plans.',\n",
       " 'TotalLinks': 45,\n",
       " 'SocialMediaLinks': {'Twitter': 'https://twitter.com/alivihealth',\n",
       "  'LinkedIn': 'https://www.linkedin.com/company/alivi/'},\n",
       " 'TechnologyWordCount': 1}"
      ]
     },
     "execution_count": 119,
     "metadata": {},
     "output_type": "execute_result"
    }
   ],
   "source": [
    "scrape_website_details(\"https://www.alivi.com/\")"
   ]
  },
  {
   "cell_type": "code",
   "execution_count": 136,
   "id": "23f32c0e",
   "metadata": {},
   "outputs": [
    {
     "name": "stdout",
     "output_type": "stream",
     "text": [
      "Scraped data has been saved to website_details.txt\n"
     ]
    }
   ],
   "source": [
    "if __name__ == \"__main__\":\n",
    "    website_url = \"https://www.alivi.com/\"\n",
    "    scraped_data = scrape_website_details(\"https://www.alivi.com/\")\n",
    "\n",
    "    # Write the scraped data to a JSON file\n",
    "    with open(\"website_details.txt\", \"w\") as json_file:\n",
    "        json.dump(scraped_data, json_file, indent=4)\n",
    "\n",
    "    print(\"Scraped data has been saved to website_details.txt\")"
   ]
  },
  {
   "cell_type": "code",
   "execution_count": 124,
   "id": "91783d63",
   "metadata": {},
   "outputs": [
    {
     "data": {
      "text/plain": [
       "{'MetaTitle': 'All American Technology Solutions | IT management',\n",
       " 'MetaDescription': 'All American Technology Solutions provides IT support and management to small businesses in Duluth and American Southeast. Full-time helpdesk, process optimization, cloud migrations and more.',\n",
       " 'TotalLinks': 72,\n",
       " 'SocialMediaLinks': {'Twitter': 'https://twitter.com/',\n",
       "  'LinkedIn': 'https://linkedin.com/'},\n",
       " 'TechnologyWordCount': 9}"
      ]
     },
     "execution_count": 124,
     "metadata": {},
     "output_type": "execute_result"
    }
   ],
   "source": [
    "scrape_website_details('https://www.aatsg.com/')"
   ]
  },
  {
   "cell_type": "code",
   "execution_count": 137,
   "id": "8fb8135d",
   "metadata": {},
   "outputs": [
    {
     "name": "stdout",
     "output_type": "stream",
     "text": [
      "Scraped data has been saved to website_details.txt\n"
     ]
    }
   ],
   "source": [
    "if __name__ == \"__main__\":\n",
    "    website_url = 'https://www.aatsg.com/'\n",
    "    scraped_data = scrape_website_details('https://www.aatsg.com/')\n",
    "\n",
    "    # Write the scraped data to a JSON file\n",
    "    with open(\"website_details.txt\", \"w\") as json_file:\n",
    "        json.dump(scraped_data, json_file, indent=4)\n",
    "\n",
    "    print(\"Scraped data has been saved to website_details.txt\")"
   ]
  },
  {
   "cell_type": "code",
   "execution_count": 126,
   "id": "59f7ffb5",
   "metadata": {},
   "outputs": [
    {
     "data": {
      "text/plain": [
       "{'MetaTitle': 'All Business Technologies - IT - SEO - Web Design - Digital Marketing - VOIP',\n",
       " 'MetaDescription': 'All Business Technologies has provided Business IT Solutions, SEO, & Digital Marketing in the Boston area since 2003. Call us at 508-586-1000 for a consultation',\n",
       " 'TotalLinks': 150,\n",
       " 'SocialMediaLinks': {'Twitter': 'https://twitter.com/allbusinesstech',\n",
       "  'LinkedIn': 'https://www.linkedin.com/company/all-business-technologies'},\n",
       " 'TechnologyWordCount': 9}"
      ]
     },
     "execution_count": 126,
     "metadata": {},
     "output_type": "execute_result"
    }
   ],
   "source": [
    "scrape_website_details(\"https://www.allbusinesstechnologies.com/\")"
   ]
  },
  {
   "cell_type": "code",
   "execution_count": 138,
   "id": "1fb438c8",
   "metadata": {},
   "outputs": [
    {
     "name": "stdout",
     "output_type": "stream",
     "text": [
      "Scraped data has been saved to website_details.txt\n"
     ]
    }
   ],
   "source": [
    "if __name__ == \"__main__\":\n",
    "    website_url = \"https://www.allbusinesstechnologies.com/\"\n",
    "    scraped_data = scrape_website_details(\"https://www.allbusinesstechnologies.com/\")\n",
    "\n",
    "    # Write the scraped data to a JSON file\n",
    "    with open(\"website_details.txt\", \"w\") as json_file:\n",
    "        json.dump(scraped_data, json_file, indent=4)\n",
    "\n",
    "    print(\"Scraped data has been saved to website_details.txt\")"
   ]
  },
  {
   "cell_type": "code",
   "execution_count": 127,
   "id": "076d852d",
   "metadata": {},
   "outputs": [
    {
     "data": {
      "text/plain": [
       "{'MetaTitle': 'All City Computers - Los Angeles County Computer Networking Support Services for Small Business',\n",
       " 'MetaDescription': 'All City Computers - Los Angeles & Orange County Computer Networking \\r\\nSupport Services for Small Business',\n",
       " 'TotalLinks': 21,\n",
       " 'SocialMediaLinks': {'Twitter': None, 'LinkedIn': None},\n",
       " 'TechnologyWordCount': 2}"
      ]
     },
     "execution_count": 127,
     "metadata": {},
     "output_type": "execute_result"
    }
   ],
   "source": [
    "scrape_website_details(\"https://www.allcitycomputers.com/\")"
   ]
  },
  {
   "cell_type": "code",
   "execution_count": 139,
   "id": "44fdea9a",
   "metadata": {},
   "outputs": [
    {
     "name": "stdout",
     "output_type": "stream",
     "text": [
      "Scraped data has been saved to website_details.txt\n"
     ]
    }
   ],
   "source": [
    "if __name__ == \"__main__\":\n",
    "    website_url = \"https://www.allcitycomputers.com/\"\n",
    "    scraped_data = scrape_website_details(\"https://www.allcitycomputers.com/\")\n",
    "\n",
    "    # Write the scraped data to a JSON file\n",
    "    with open(\"website_details.txt\", \"w\") as json_file:\n",
    "        json.dump(scraped_data, json_file, indent=4)\n",
    "\n",
    "    print(\"Scraped data has been saved to website_details.txt\")"
   ]
  },
  {
   "cell_type": "code",
   "execution_count": 129,
   "id": "308c129d",
   "metadata": {},
   "outputs": [
    {
     "data": {
      "text/plain": [
       "{'MetaTitle': 'All Lines Technology | Managed IT & Cybersecurity Services Provider',\n",
       " 'MetaDescription': 'All Lines Technology is a leading provider of Managed IT & Cybersecurity services with offices in Pittsburgh and Columbus.',\n",
       " 'TotalLinks': 322,\n",
       " 'SocialMediaLinks': {'Twitter': 'https://twitter.com/alllinestech?lang=en',\n",
       "  'LinkedIn': 'https://www.linkedin.com/company/alllines/'},\n",
       " 'TechnologyWordCount': 6}"
      ]
     },
     "execution_count": 129,
     "metadata": {},
     "output_type": "execute_result"
    }
   ],
   "source": [
    "scrape_website_details(\"https://www.all-lines-tech.com/\")"
   ]
  },
  {
   "cell_type": "code",
   "execution_count": 140,
   "id": "02adad64",
   "metadata": {},
   "outputs": [
    {
     "name": "stdout",
     "output_type": "stream",
     "text": [
      "Scraped data has been saved to website_details.txt\n"
     ]
    }
   ],
   "source": [
    "if __name__ == \"__main__\":\n",
    "    website_url = \"https://www.all-lines-tech.com/\"\n",
    "    scraped_data = scrape_website_details(\"https://www.all-lines-tech.com/\")\n",
    "\n",
    "    # Write the scraped data to a JSON file\n",
    "    with open(\"website_details.txt\", \"w\") as json_file:\n",
    "        json.dump(scraped_data, json_file, indent=4)\n",
    "\n",
    "    print(\"Scraped data has been saved to website_details.txt\")"
   ]
  }
 ],
 "metadata": {
  "kernelspec": {
   "display_name": "Python 3 (ipykernel)",
   "language": "python",
   "name": "python3"
  },
  "language_info": {
   "codemirror_mode": {
    "name": "ipython",
    "version": 3
   },
   "file_extension": ".py",
   "mimetype": "text/x-python",
   "name": "python",
   "nbconvert_exporter": "python",
   "pygments_lexer": "ipython3",
   "version": "3.10.9"
  }
 },
 "nbformat": 4,
 "nbformat_minor": 5
}
